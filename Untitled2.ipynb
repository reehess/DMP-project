{
  "nbformat": 4,
  "nbformat_minor": 0,
  "metadata": {
    "colab": {
      "provenance": [],
      "authorship_tag": "ABX9TyOpqWDrxiT0WFzXZRqZVLlM",
      "include_colab_link": true
    },
    "kernelspec": {
      "name": "python3",
      "display_name": "Python 3"
    },
    "language_info": {
      "name": "python"
    }
  },
  "cells": [
    {
      "cell_type": "markdown",
      "metadata": {
        "id": "view-in-github",
        "colab_type": "text"
      },
      "source": [
        "<a href=\"https://colab.research.google.com/github/reehess/DMP-project/blob/main/Untitled2.ipynb\" target=\"_parent\"><img src=\"https://colab.research.google.com/assets/colab-badge.svg\" alt=\"Open In Colab\"/></a>"
      ]
    },
    {
      "cell_type": "code",
      "execution_count": 1,
      "metadata": {
        "id": "dNPnfkXMh3Jn"
      },
      "outputs": [],
      "source": [
        "import pandas as pd\n",
        "import matplotlib.pyplot as plt\n",
        "\n",
        "df = pd.read_csv('personalIncome.csv', sep=';', header=1)\n",
        "\n",
        "df = df.drop([0])\n",
        "\n",
        "df_values = df.drop(columns=['GeoName'])\n",
        "\n",
        "\n",
        "new_columns = []\n",
        "\n",
        "for i in range(0, len(df_values.columns), 4):\n",
        "    year_sum = df_values.iloc[:, i:i+4].sum(axis=1)\n",
        "    year_quarter = df_values.columns[i]\n",
        "    year = year_quarter.split(':')[0]\n",
        "    new_columns.append((year, year_sum))\n",
        "\n",
        "\n",
        "aggregated_data = pd.concat([df[['GeoName']]] + [col[1] for col in new_columns], axis=1)\n",
        "aggregated_data.columns = ['GeoName'] + [col[0] for col in new_columns]\n",
        "\n",
        "\n",
        "aggregated_data.to_csv('personalIncome_aggregated.csv', index=False, sep=';')\n"
      ]
    },
    {
      "cell_type": "code",
      "source": [
        "df_income = pd.read_csv('personalIncome_aggregated.csv', sep=';')\n",
        "df_education = pd.read_csv('educationalRate.csv', sep=';')\n",
        "df_income['GeoName'] = df_income['GeoName'].str.strip().str.lower()\n",
        "df_education['GeoName'] = df_education['GeoName'].str.strip().str.lower()\n",
        "merged_df = pd.merge(df_income, df_education, on='GeoName', how='inner')\n"
      ],
      "metadata": {
        "id": "SFwd562GiCjd"
      },
      "execution_count": null,
      "outputs": []
    },
    {
      "cell_type": "code",
      "source": [],
      "metadata": {
        "id": "pBbc24ZDWi37"
      },
      "execution_count": null,
      "outputs": []
    },
    {
      "cell_type": "code",
      "source": [
        "import pandas as pd\n",
        "import matplotlib.pyplot as plt\n",
        "\n",
        "# Supondo que merged_df já tenha sido criado e contém as colunas '2019_x' e '2019_y'\n",
        "# '2019_x' -> Renda per capita\n",
        "# '2019_y' -> Taxa de educação\n",
        "\n",
        "# Criar o gráfico de dispersão\n",
        "plt.figure(figsize=(8, 6))\n",
        "plt.scatter(merged_df['2019_x'], merged_df['2019_y'], color='blue', alpha=0.5)\n",
        "\n",
        "# Títulos e rótulos\n",
        "plt.title('Relação entre Renda Per Capita e Taxa de Educação em 2019')\n",
        "plt.xlabel('Renda Per Capita (2019)')\n",
        "plt.ylabel('Taxa de Educação (2019)')\n",
        "\n",
        "# Mostrar o gráfico\n",
        "plt.show()\n"
      ],
      "metadata": {
        "id": "3pZzGghFiS8J"
      },
      "execution_count": null,
      "outputs": []
    }
  ]
}